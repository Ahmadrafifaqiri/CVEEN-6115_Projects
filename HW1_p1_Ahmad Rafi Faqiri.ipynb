{
 "cells": [
  {
   "cell_type": "markdown",
   "metadata": {},
   "source": [
    "## Instructions (important, please read)\n",
    "\n",
    "1. Type your full name where it says NAME, below\n",
    "\n",
    "2. Put your solution into the cell that says:\n",
    "```python\n",
    "# YOUR CODE HERE\n",
    "# Ahmad Rafi Faqiri\n",
    "raise NotImplementedError()\n",
    "```\n",
    "\n",
    "**(Delete these contents when inputing your solution)**\n",
    "\n",
    "2. Do not move, add, or delete any cells\n",
    "\n",
    "3. Make sure your variable names and strings **match the instructions exactly**, (e.g. variable_1 vs Variable_1)\n",
    "\n",
    "3. If you are not using Colab, please copy and paste your **final answers into Colab**\n",
    "\n",
    "4. Before you submit, make sure everything runs as expected: \n",
    "    * Input your final answers  \n",
    "    * Go to \"Runtime\" $\\Rightarrow$ \"Restart and Run All\" \n",
    "    * Make sure you don't see any errors\n",
    "\n",
    "5. Go to \"File\" $\\Rightarrow$ \"Download .ipynb\"\n",
    "\n",
    "6. Upload the .ipynb to Canvas (do not change the file name)\n",
    "\n",
    "**Important Note:** There is an empty cell below your solution, **do not move or delete it** (it contains hidden tests that assign points to your code, deleting it will result in 0 points)."
   ]
  },
  {
   "cell_type": "code",
   "execution_count": 20,
   "metadata": {},
   "outputs": [],
   "source": [
    "NAME = \"Ahmad Rafi Faqiri\""
   ]
  },
  {
   "cell_type": "markdown",
   "metadata": {},
   "source": [
    "---"
   ]
  },
  {
   "cell_type": "markdown",
   "metadata": {
    "deletable": false,
    "editable": false,
    "nbgrader": {
     "cell_type": "markdown",
     "checksum": "93fe9130a5948d2479c61f792cca2dae",
     "grade": false,
     "grade_id": "cell-21ed301ebc6211bb",
     "locked": true,
     "schema_version": 3,
     "solution": false,
     "task": false
    }
   },
   "source": [
    "# Create a Vector Algebra Python Package"
   ]
  },
  {
   "cell_type": "markdown",
   "metadata": {
    "deletable": false,
    "editable": false,
    "nbgrader": {
     "cell_type": "markdown",
     "checksum": "e9c6ac37aecd5120096977f9e439406b",
     "grade": false,
     "grade_id": "cell-730eeb8cc8d39a6f",
     "locked": true,
     "schema_version": 3,
     "solution": false,
     "task": false
    }
   },
   "source": [
    "**Problem:** Write a function that computes the component-wise sum of two vectors (represented as lists).\n",
    "\n",
    "**Function name:** `add_vecs()` (your function name must match this exactly)\n",
    "\n",
    "For example, let `x` and `y` represent the following vectors in ${\\rm I\\!R^3}$\n",
    "\n",
    "`x = [2,0,1]`\n",
    "\n",
    "`y = [1,1,5]`\n",
    "\n",
    "Then `add_vecs(x,y)` should return:\n",
    "\n",
    "`[3,1,6]`\n",
    "\n",
    "**Input arguments:** \n",
    "\n",
    "* x: List \n",
    "* y: List\n",
    "\n",
    "**Output:** \n",
    "\n",
    "* component-wise vector sum: List\n",
    "\n",
    "**Requirements:**\n",
    "\n",
    "* Use an `assert` statement at the beginning of the function: check that the vector lengths match\n",
    "* If vector lengths don't match, the assert statement should be: `'Error, vectors must be the same length'`\n",
    "* Use list comprehension\n",
    "\n",
    "**Hints:**\n",
    "* Use `zip()` within your list comprehension"
   ]
  },
  {
   "cell_type": "code",
   "execution_count": 21,
   "metadata": {
    "deletable": false,
    "nbgrader": {
     "cell_type": "code",
     "checksum": "b253ded2cdda140156ec008c0499cd4a",
     "grade": false,
     "grade_id": "cell-fe293c2fb72f0182",
     "locked": false,
     "schema_version": 3,
     "solution": true,
     "task": false
    }
   },
   "outputs": [],
   "source": [
    "def add_vecs(x, y):\n",
    "    if len(x) != len(y):\n",
    "        raise ValueError(\"Vectors must have the same length\")\n",
    "    return [x[i] + y[i] for i in range(len(x))]\n"
   ]
  },
  {
   "cell_type": "code",
   "execution_count": null,
   "metadata": {
    "deletable": false,
    "editable": false,
    "nbgrader": {
     "cell_type": "code",
     "checksum": "6ba5a5a4e0135bc581594188e709bd68",
     "grade": true,
     "grade_id": "cell-c61b3a33b5f758ae",
     "locked": true,
     "points": 5,
     "schema_version": 3,
     "solution": false,
     "task": false
    }
   },
   "outputs": [],
   "source": []
  },
  {
   "cell_type": "markdown",
   "metadata": {
    "deletable": false,
    "editable": false,
    "nbgrader": {
     "cell_type": "markdown",
     "checksum": "af3e9b3a1d89002e0b7adc4aeae1c6f6",
     "grade": false,
     "grade_id": "cell-794ed707a492c6c8",
     "locked": true,
     "schema_version": 3,
     "solution": false,
     "task": false
    }
   },
   "source": [
    "**Problem:** Write a function that computes the component-wise subtraction of two vectors (represented as lists).\n",
    "\n",
    "**Function name:** `sub_vecs()` (your function name must match this exactly)\n",
    "\n",
    "For example, let `x` and `y` represent the following vectors in ${\\rm I\\!R^3}$\n",
    "\n",
    "`x = [2,0,1]`\n",
    "\n",
    "`y = [1,1,5]`\n",
    "\n",
    "Then `sub_vecs(x,y)` should return:\n",
    "\n",
    "`[1,-1,-4]`\n",
    "\n",
    "**Input arguments:** \n",
    "\n",
    "* x: List \n",
    "* y: List\n",
    "\n",
    "**Output:** \n",
    "\n",
    "* component-wise vector subtraction: List\n",
    "\n",
    "**Requirements:**\n",
    "\n",
    "* Use an `assert` statement at the beginning of the function: check that the vector lengths match\n",
    "* If vector lengths don't match, the assert statement should be: `'Error, vectors must be the same length'`\n",
    "* Use list comprehension\n",
    "\n",
    "**Hints:**\n",
    "* Use `zip()` within your list comprehension"
   ]
  },
  {
   "cell_type": "code",
   "execution_count": 22,
   "metadata": {
    "deletable": false,
    "nbgrader": {
     "cell_type": "code",
     "checksum": "81f2bbf52537ab484d3ce016e8d1e0f0",
     "grade": false,
     "grade_id": "cell-e596a8542f9e5505",
     "locked": false,
     "schema_version": 3,
     "solution": true,
     "task": false
    }
   },
   "outputs": [],
   "source": [
    "def sub_vecs(x, y):\n",
    "    assert len(x) == len(y), 'Error, vectors must be the same length'\n",
    "    return [a - b for a, b in zip(x, y)]"
   ]
  },
  {
   "cell_type": "code",
   "execution_count": null,
   "metadata": {
    "deletable": false,
    "editable": false,
    "nbgrader": {
     "cell_type": "code",
     "checksum": "6025cae0a0fd9818cca042003f14352b",
     "grade": true,
     "grade_id": "cell-6ae769ace5b4cb58",
     "locked": true,
     "points": 5,
     "schema_version": 3,
     "solution": false,
     "task": false
    }
   },
   "outputs": [],
   "source": []
  },
  {
   "cell_type": "markdown",
   "metadata": {
    "deletable": false,
    "editable": false,
    "nbgrader": {
     "cell_type": "markdown",
     "checksum": "5505f227d23ff7218aae5e5d745962c3",
     "grade": false,
     "grade_id": "cell-50d8bea43e6b8767",
     "locked": true,
     "schema_version": 3,
     "solution": false,
     "task": false
    }
   },
   "source": [
    "**Problem:** Write a function that computes the element-wise sum of an arbitrary number of vectors (represented as a list of lists).\n",
    "\n",
    "**Function name:** `vec_sum()` (your function name must match this exactly)\n",
    "\n",
    "For example, let `x`, `y`, and `z` represent the following vectors in ${\\rm I\\!R^3}$\n",
    "\n",
    "`x = [2,0,1]`\n",
    "\n",
    "`y = [1,1,5]`\n",
    "\n",
    "`z = [3,-1,2]`\n",
    "\n",
    "Then `vec_sum([x,y,z])` should return:\n",
    "\n",
    "`[6,0,8]`\n",
    "\n",
    "**Input arguments:** \n",
    "\n",
    "* v: List of lists\n",
    "\n",
    "**Output:** \n",
    "\n",
    "* element-wise vector sum: List\n",
    "\n",
    "**Requirements:**\n",
    "\n",
    "* Use an `assert` statement at the beginning of the function: check that ALL the vector lengths match\n",
    "* If vector lengths don't match, the assert statement should be: `'Error, vectors must be the same length'`\n",
    "* Use list comprehension with two `for` statements\n",
    "\n",
    "**Hints:**\n",
    "* Use the `all()` function to check that all vector lengths match\n",
    "* Use the `sum()` function to sum vectors components"
   ]
  },
  {
   "cell_type": "code",
   "execution_count": 23,
   "metadata": {
    "deletable": false,
    "nbgrader": {
     "cell_type": "code",
     "checksum": "1147f8353268822576ddfc389d5e1b97",
     "grade": false,
     "grade_id": "cell-17ab81f877a6e12c",
     "locked": false,
     "schema_version": 3,
     "solution": true,
     "task": false
    }
   },
   "outputs": [],
   "source": [
    "def vec_sum(v):\n",
    "    assert all(len(vec) == len(v[0]) for vec in v), 'Error, vectors must be the same length'\n",
    "    return [sum(components) for components in zip(*v)]"
   ]
  },
  {
   "cell_type": "code",
   "execution_count": null,
   "metadata": {
    "deletable": false,
    "editable": false,
    "nbgrader": {
     "cell_type": "code",
     "checksum": "9238fa8537657a1ffa8935e5051d5d43",
     "grade": true,
     "grade_id": "cell-97395150c382be91",
     "locked": true,
     "points": 5,
     "schema_version": 3,
     "solution": false,
     "task": false
    }
   },
   "outputs": [],
   "source": []
  },
  {
   "cell_type": "markdown",
   "metadata": {
    "deletable": false,
    "editable": false,
    "nbgrader": {
     "cell_type": "markdown",
     "checksum": "1c08ad1835a0b51bfec462a2e334b74c",
     "grade": false,
     "grade_id": "cell-4196adc197e3ae04",
     "locked": true,
     "schema_version": 3,
     "solution": false,
     "task": false
    }
   },
   "source": [
    "**Problem:** Write a function that computes scalar multiplication for a single vector\n",
    "\n",
    "**Function name:** `scalar_mult()` (your function name must match this exactly)\n",
    "\n",
    "For example, let `x` represent the following vector in ${\\rm I\\!R^3}$\n",
    "\n",
    "`x = [2,0,1]`\n",
    "\n",
    "and let c represent a scalar:\n",
    "\n",
    "`c = 1.5`\n",
    "\n",
    "Then `scalar_mult(c,x)` should return:\n",
    "\n",
    "`[3.0, 0.0, 1.5]`\n",
    "\n",
    "**Input arguments:** \n",
    "\n",
    "* v: List\n",
    "* c: float\n",
    "\n",
    "**Output:** \n",
    "\n",
    "* scalar multiplication of v: List\n",
    "\n",
    "**Requirements:**\n",
    "\n",
    "* Use list comprehension\n",
    "\n",
    "**Hints:**\n",
    "\n",
    "(none)"
   ]
  },
  {
   "cell_type": "code",
   "execution_count": 24,
   "metadata": {
    "deletable": false,
    "nbgrader": {
     "cell_type": "code",
     "checksum": "a267d793d561d9b0fd44279fbcfddda3",
     "grade": false,
     "grade_id": "cell-d21fc5d6a568c58e",
     "locked": false,
     "schema_version": 3,
     "solution": true,
     "task": false
    }
   },
   "outputs": [],
   "source": [
    "def scalar_mult(c, v):\n",
    "    return [c * component for component in v]"
   ]
  },
  {
   "cell_type": "code",
   "execution_count": null,
   "metadata": {
    "deletable": false,
    "editable": false,
    "nbgrader": {
     "cell_type": "code",
     "checksum": "700e1de4fe6601424a4e3d80f854ba0d",
     "grade": true,
     "grade_id": "cell-5dada58db78d2081",
     "locked": true,
     "points": 5,
     "schema_version": 3,
     "solution": false,
     "task": false
    }
   },
   "outputs": [],
   "source": []
  },
  {
   "cell_type": "markdown",
   "metadata": {
    "deletable": false,
    "editable": false,
    "nbgrader": {
     "cell_type": "markdown",
     "checksum": "835081437207882ee48fd2f113d193fd",
     "grade": false,
     "grade_id": "cell-54d8f46887d5c572",
     "locked": true,
     "schema_version": 3,
     "solution": false,
     "task": false
    }
   },
   "source": [
    "**Problem:** Write a function that computes the vector mean, given multiple input vectors\n",
    "\n",
    "**Function name:** `vec_mean()` (your function name must match this exactly)\n",
    "\n",
    "For example, let `x`, `y`, and `z` represent the following vectors in ${\\rm I\\!R^3}$\n",
    "\n",
    "`x = [2,0,1]`\n",
    "\n",
    "`y = [1,1,5]`\n",
    "\n",
    "`z = [3,-1,2]`\n",
    "\n",
    "Then `vec_mean([x,y,z])` should return:\n",
    "\n",
    "`[2.0, 0.0, 2.66]`\n",
    "\n",
    "**Input arguments:** \n",
    "\n",
    "* v: List of lists\n",
    "\n",
    "**Output:** \n",
    "\n",
    "* vector mean v: List\n",
    "\n",
    "**Requirements:**\n",
    "\n",
    "(none)\n",
    "\n",
    "**Hints:**\n",
    "\n",
    "* Use `scalar_mult()` in your solution\n",
    "* Use `vec_sum()` in your solution"
   ]
  },
  {
   "cell_type": "code",
   "execution_count": 25,
   "metadata": {
    "deletable": false,
    "nbgrader": {
     "cell_type": "code",
     "checksum": "845822160aebb80e18a398174f2fdba1",
     "grade": false,
     "grade_id": "cell-d27b601baae470ea",
     "locked": false,
     "schema_version": 3,
     "solution": true,
     "task": false
    }
   },
   "outputs": [],
   "source": [
    "def vec_mean(v):\n",
    "    # YOUR CODE HERE\n",
    "    n = len(v)\n",
    "    return scalar_mult(1/n, vec_sum(v))"
   ]
  },
  {
   "cell_type": "code",
   "execution_count": null,
   "metadata": {
    "deletable": false,
    "editable": false,
    "nbgrader": {
     "cell_type": "code",
     "checksum": "2112de92b1c97e198338acb04bd8f88e",
     "grade": true,
     "grade_id": "cell-73b36c0bdc422fd5",
     "locked": true,
     "points": 5,
     "schema_version": 3,
     "solution": false,
     "task": false
    }
   },
   "outputs": [],
   "source": []
  },
  {
   "cell_type": "markdown",
   "metadata": {
    "deletable": false,
    "editable": false,
    "nbgrader": {
     "cell_type": "markdown",
     "checksum": "bd14ebe387bb2ff62dff5b57c8259320",
     "grade": false,
     "grade_id": "cell-60634b645073e7fe",
     "locked": true,
     "schema_version": 3,
     "solution": false,
     "task": false
    }
   },
   "source": [
    "**Problem:** Write a function that computes the dot product of two vectors (the sum of their componentwise products).\n",
    "\n",
    "\n",
    "**Function name:** `vec_dot()` (your function name must match this exactly)\n",
    "\n",
    "For example, let `x` and `y` represent the following vectors in ${\\rm I\\!R^3}$\n",
    "\n",
    "`x = [2,0,1]`\n",
    "\n",
    "`y = [1,1,5]`\n",
    "\n",
    "Then `vec_dot(x,y)` should return:\n",
    "\n",
    "7\n",
    "\n",
    "**Input arguments:** \n",
    "\n",
    "* x: List \n",
    "* y: List\n",
    "\n",
    "**Output:** \n",
    "\n",
    "* Dot product of x and y: Float\n",
    "\n",
    "**Requirements:**\n",
    "\n",
    "* Use an `assert` statement at the beginning of the function: check that the vector lengths match\n",
    "* If vector lengths don't match, the assert statement should be: `'Error, vectors must be the same length'`\n",
    "\n",
    "**Hints:**\n",
    "\n",
    "* Use list comprehension\n",
    "* Use `zip()` in your list comprehension"
   ]
  },
  {
   "cell_type": "code",
   "execution_count": 26,
   "metadata": {
    "deletable": false,
    "nbgrader": {
     "cell_type": "code",
     "checksum": "ffed8a4aa3a41547d4caef57b668ac8e",
     "grade": false,
     "grade_id": "cell-bb03ce53b5d62d2e",
     "locked": false,
     "schema_version": 3,
     "solution": true,
     "task": false
    }
   },
   "outputs": [],
   "source": [
    "def vec_dot(x,y):\n",
    "    # YOUR CODE HERE\n",
    "    assert len(x) == len(y), 'Error, vectors must be the same length'\n",
    "    return sum(a * b for a, b in zip(x, y))"
   ]
  },
  {
   "cell_type": "code",
   "execution_count": null,
   "metadata": {
    "deletable": false,
    "editable": false,
    "nbgrader": {
     "cell_type": "code",
     "checksum": "086e7d066aaf8538cb51c775d8f93a91",
     "grade": true,
     "grade_id": "cell-8b08c9694c7560cb",
     "locked": true,
     "points": 5,
     "schema_version": 3,
     "solution": false,
     "task": false
    }
   },
   "outputs": [],
   "source": []
  },
  {
   "cell_type": "markdown",
   "metadata": {
    "deletable": false,
    "editable": false,
    "nbgrader": {
     "cell_type": "markdown",
     "checksum": "53297ebdc486046e1517545138d19e01",
     "grade": false,
     "grade_id": "cell-50b257df7941654c",
     "locked": true,
     "schema_version": 3,
     "solution": false,
     "task": false
    }
   },
   "source": [
    "**Problem:** Write a function that computes the sum of squares for a single vector.\n",
    "\n",
    "\n",
    "**Function name:** `vec_sum_squares()` (your function name must match this exactly)\n",
    "\n",
    "For example, let `x` represent the following vector in ${\\rm I\\!R^3}$\n",
    "\n",
    "`x = [2,0,1]`\n",
    "\n",
    "Then `vec_sum_squares(x)` should return:\n",
    "\n",
    "5\n",
    "\n",
    "**Input arguments:** \n",
    "\n",
    "* x: List \n",
    "\n",
    "**Output:** \n",
    "\n",
    "* Sum of squares of `x`'s components: Float\n",
    "\n",
    "**Requirements:**\n",
    "\n",
    "(none)\n",
    "\n",
    "**Hints:**\n",
    "\n",
    "* **Big hint:** The dot product of a vector with itself gives the sum of sqaures of its components\n",
    "* (Use `vec_dot()` in your solution)"
   ]
  },
  {
   "cell_type": "code",
   "execution_count": null,
   "metadata": {
    "deletable": false,
    "nbgrader": {
     "cell_type": "code",
     "checksum": "a15e99c489d543c323578edc7901db74",
     "grade": false,
     "grade_id": "cell-36dcbdc878dca2f9",
     "locked": false,
     "schema_version": 3,
     "solution": true,
     "task": false
    }
   },
   "outputs": [],
   "source": [
    "def vec_sum_squares(x):\n",
    "    # YOUR CODE HERE\n",
    "    return vec_dot(x, x)\n",
    "    raise NotImplementedError()"
   ]
  },
  {
   "cell_type": "code",
   "execution_count": null,
   "metadata": {
    "deletable": false,
    "editable": false,
    "nbgrader": {
     "cell_type": "code",
     "checksum": "9c03e9a41b15ffef27e57816c7ed1a87",
     "grade": true,
     "grade_id": "cell-c0888a5c8b081c23",
     "locked": true,
     "points": 5,
     "schema_version": 3,
     "solution": false,
     "task": false
    }
   },
   "outputs": [],
   "source": []
  },
  {
   "cell_type": "markdown",
   "metadata": {
    "deletable": false,
    "editable": false,
    "nbgrader": {
     "cell_type": "markdown",
     "checksum": "a8490e473dce614222de47de461082bd",
     "grade": false,
     "grade_id": "cell-54321867fa595bd2",
     "locked": true,
     "schema_version": 3,
     "solution": false,
     "task": false
    }
   },
   "source": [
    "**Problem:** Write a function that measures the magnitude of a vector. \n",
    "\n",
    "Recall that the magnitude of a vector is the square root of its sum of squared values.\n",
    "\n",
    "**Function name:** `vec_magnitude()` (your function name must match this exactly)\n",
    "\n",
    "For example, let `x` represent the following vector in ${\\rm I\\!R^3}$\n",
    "\n",
    "`x = [2,0,1]`\n",
    "\n",
    "Then `vec_magnitude(x)` should return:\n",
    "\n",
    "2.236\n",
    "\n",
    "**Input arguments:** \n",
    "\n",
    "* x: List \n",
    "\n",
    "**Output:** \n",
    "\n",
    "* Magnitude of `x`: Float\n",
    "\n",
    "**Requirements:**\n",
    "\n",
    "(none)\n",
    "\n",
    "**Hints:**\n",
    "\n",
    "* Use `vec_sum_squares()`\n",
    "* Use the following code to take the square root of a number:\n",
    "\n",
    "```python\n",
    "import math\n",
    "math.sqrt()\n",
    "```"
   ]
  },
  {
   "cell_type": "code",
   "execution_count": 28,
   "metadata": {
    "deletable": false,
    "nbgrader": {
     "cell_type": "code",
     "checksum": "29fc8811ebbb23ccf16b2c43ef13243a",
     "grade": false,
     "grade_id": "cell-d036e9f8ea6b1648",
     "locked": false,
     "schema_version": 3,
     "solution": true,
     "task": false
    }
   },
   "outputs": [],
   "source": [
    "import math\n",
    "def vec_magnitude(x):\n",
    "    # YOUR CODE HERE\n",
    "    return math.sqrt(vec_sum_squares(x))\n",
    "    raise NotImplementedError()"
   ]
  },
  {
   "cell_type": "code",
   "execution_count": null,
   "metadata": {
    "deletable": false,
    "editable": false,
    "nbgrader": {
     "cell_type": "code",
     "checksum": "1529e74bbc8a9b4de24b76fe23e4af1c",
     "grade": true,
     "grade_id": "cell-acfb46ad888b77b8",
     "locked": true,
     "points": 5,
     "schema_version": 3,
     "solution": false,
     "task": false
    }
   },
   "outputs": [],
   "source": []
  },
  {
   "cell_type": "markdown",
   "metadata": {},
   "source": [
    "**Problem:** Write a function that measures the distance between two vectors. \n",
    "\n",
    "Recall that the distance between two vectors is simply the magnitude of their component-wise subtraction.\n",
    "\n",
    "**Function name:** `vec_distance()` (your function name must match this exactly)\n",
    "\n",
    "For example, let `x` and `y` represent the following vectors in ${\\rm I\\!R^3}$\n",
    "\n",
    "`x = [2,0,1]`\n",
    "\n",
    "`y = [1,1,5]`\n",
    "\n",
    "Then `vec_distance(x,y)` should return:\n",
    "\n",
    "4.2426\n",
    "\n",
    "**Input arguments:** \n",
    "\n",
    "* x: List \n",
    "* y: List\n",
    "\n",
    "**Output:** \n",
    "\n",
    "* Distance between vectors `x` and `y`: Float\n",
    "\n",
    "**Requirements:**\n",
    "\n",
    "(none)\n",
    "\n",
    "**Hints:**\n",
    "\n",
    "* Use `sub_vecs()`\n",
    "* Use `vec_magnitude()`"
   ]
  },
  {
   "cell_type": "code",
   "execution_count": null,
   "metadata": {
    "deletable": false,
    "nbgrader": {
     "cell_type": "code",
     "checksum": "7e143316f83c7b3c82449f1f40dcf89b",
     "grade": false,
     "grade_id": "cell-093df5795b89c847",
     "locked": false,
     "schema_version": 3,
     "solution": true,
     "task": false
    }
   },
   "outputs": [],
   "source": [
    "def vec_distance(x,y): \n",
    "    # YOUR CODE HERE\n",
    "    return vec_magnitude(sub_vecs(x, y))\n",
    "    raise NotImplementedError()"
   ]
  },
  {
   "cell_type": "code",
   "execution_count": null,
   "metadata": {},
   "outputs": [],
   "source": []
  }
 ],
 "metadata": {
  "kernelspec": {
   "display_name": "Python 3",
   "language": "python",
   "name": "python3"
  },
  "language_info": {
   "codemirror_mode": {
    "name": "ipython",
    "version": 3
   },
   "file_extension": ".py",
   "mimetype": "text/x-python",
   "name": "python",
   "nbconvert_exporter": "python",
   "pygments_lexer": "ipython3",
   "version": "3.10.9"
  }
 },
 "nbformat": 4,
 "nbformat_minor": 2
}
