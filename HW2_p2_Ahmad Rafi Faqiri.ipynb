{
  "cells": [
    {
      "cell_type": "markdown",
      "metadata": {
        "id": "sidyZ7_mtZj-"
      },
      "source": [
        "## Instructions (important, please read)\n",
        "\n",
        "1. Type your full name where it says NAME, below\n",
        "\n",
        "2. Put your solution into the cell that says:\n",
        "```python\n",
        "# YOUR CODE HERE\n",
        "raise NotImplementedError()\n",
        "```\n",
        "\n",
        "**(Delete these contents when inputing your solution)**\n",
        "\n",
        "2. Do not move, add, or delete any cells\n",
        "\n",
        "3. Make sure your variable names and strings **match the instructions exactly**, (e.g. variable_1 vs Variable_1)\n",
        "\n",
        "3. If you are not using Colab, please copy and paste your **final answers into Colab**\n",
        "\n",
        "4. Before you submit, make sure everything runs as expected: \n",
        "    * Input your final answers  \n",
        "    * Go to \"Runtime\" $\\Rightarrow$ \"Restart and Run All\" \n",
        "    * Make sure you don't see any errors\n",
        "\n",
        "5. Go to \"File\" $\\Rightarrow$ \"Download .ipynb\"\n",
        "\n",
        "6. Upload the .ipynb to Canvas (do not change the file name)\n",
        "\n",
        "**Important Note:** There is an empty cell below your solution, **do not move or delete it** (it contains hidden tests that assign points to your code, deleting it will result in 0 points)."
      ]
    },
    {
      "cell_type": "code",
      "execution_count": null,
      "metadata": {
        "id": "8c-llPQ1tZkA"
      },
      "outputs": [],
      "source": [
        "NAME = \"Ahmad Rafi Faqiri\""
      ]
    },
    {
      "cell_type": "markdown",
      "metadata": {
        "id": "bRcFBYFxtZkB"
      },
      "source": [
        "---"
      ]
    },
    {
      "cell_type": "markdown",
      "metadata": {
        "deletable": false,
        "editable": false,
        "id": "N9k3KvUytZkB",
        "nbgrader": {
          "cell_type": "markdown",
          "checksum": "9eae3620edc2f5b7591b57ac2d468c34",
          "grade": false,
          "grade_id": "cell-21ed301ebc6211bb",
          "locked": true,
          "schema_version": 3,
          "solution": false,
          "task": false
        }
      },
      "source": [
        "# k-Nearest Neighbors"
      ]
    },
    {
      "cell_type": "markdown",
      "metadata": {
        "deletable": false,
        "editable": false,
        "id": "BKo7fgYitZkB",
        "nbgrader": {
          "cell_type": "markdown",
          "checksum": "d8e9836d43b32aab17a9fc9055872771",
          "grade": false,
          "grade_id": "cell-1c626cde7b8b6b8d",
          "locked": true,
          "schema_version": 3,
          "solution": false,
          "task": false
        }
      },
      "source": [
        "**Problem:** Create a .py file called 'vec_alg_helper_fxs.py' that contains all the functions defined in the previous homework assignment. \n",
        "\n",
        "\n",
        "From the vec_alg_helper_fxs.py file, use an `import` statement to import `vec_distance`."
      ]
    },
    {
      "cell_type": "code",
      "execution_count": 5,
      "metadata": {
        "deletable": false,
        "id": "PIdm6ZtMtZkC",
        "nbgrader": {
          "cell_type": "code",
          "checksum": "afb368073834b2f443323b4986b34dd0",
          "grade": false,
          "grade_id": "cell-abda05f832b82276",
          "locked": false,
          "schema_version": 3,
          "solution": true,
          "task": false
        }
      },
      "outputs": [],
      "source": [
        "from vec_alg_helper_fxs import vec_distance\n"
      ]
    },
    {
      "cell_type": "code",
      "execution_count": null,
      "metadata": {
        "deletable": false,
        "editable": false,
        "id": "OmZa00LmtZkC",
        "nbgrader": {
          "cell_type": "code",
          "checksum": "b29e3dc8a3d90bacaa099a4028ac004a",
          "grade": true,
          "grade_id": "cell-3c12843dc1a17b26",
          "locked": true,
          "points": 5,
          "schema_version": 3,
          "solution": false,
          "task": false
        }
      },
      "outputs": [],
      "source": []
    },
    {
      "cell_type": "markdown",
      "metadata": {
        "deletable": false,
        "editable": false,
        "id": "mvaU8EoJtZkC",
        "nbgrader": {
          "cell_type": "markdown",
          "checksum": "4b8ab46f6e7ca901155824d4030299e8",
          "grade": false,
          "grade_id": "cell-ee8c1db14b434e4f",
          "locked": true,
          "schema_version": 3,
          "solution": false,
          "task": false
        }
      },
      "source": [
        "**Problem**\n",
        "\n",
        "Write a function ``majority`` that returns a majority vote, given a list of labels (strings). \n",
        "\n",
        "For example, if the argument of the function is ``name_list = ['John', 'Anna', 'Anna', 'Tom', 'Marie']``, then the call ``majority(name_list)`` should return ``Anna`` since it appears the greatest number of times in the argument.\n",
        "\n",
        "(Don't worry about this now, but assume label order matters and they are pre-sorted from closest to farthest) \n",
        "\n",
        "**Function name:** `majority()`\n",
        "\n",
        "**Input arguments:** \n",
        "\n",
        "* the list of labels: `List[str]`\n",
        "\n",
        "**Output:** \n",
        "\n",
        "* the majority vote (most common label): `str`\n",
        "\n",
        "**Requirements:**\n",
        "\n",
        "* In the case that there is a tie (two or more winners), remove the farthest (the last element of the list) and re-run the function.\n",
        "* Use a recursive function to accomplish this. (This means the `return` value calls the function again: https://realpython.com/python-thinking-recursively/)\n",
        "\n",
        "**Hints:**\n",
        "\n",
        "* Use `Counter` (`from collections import Counter`)\n",
        "* `Counter.most_common(1)` can be used to return the most common count from a list\n",
        "* Use list comprehension to see if there are any ties\n",
        "\n"
      ]
    },
    {
      "cell_type": "code",
      "execution_count": 65,
      "metadata": {
        "deletable": false,
        "id": "TknlwOy7tZkC",
        "nbgrader": {
          "cell_type": "code",
          "checksum": "c51d004474597c2e8372e57c26b56af6",
          "grade": false,
          "grade_id": "cell-ad59d584214b14d6",
          "locked": false,
          "schema_version": 3,
          "solution": true,
          "task": false
        }
      },
      "outputs": [],
      "source": [
        "from collections import Counter\n",
        "def majority(labels):\n",
        "  label_counts=Counter(labels)\n",
        "  vote=label_counts.most_common()\n",
        "  if len(vote)==1:\n",
        "    return vote[0][0]\n",
        "  if vote[0][1]!=vote[1][1]:\n",
        "    return vote[0][0]\n",
        "  if vote[0][1]==vote[1][1]:\n",
        "    labels.pop()\n",
        "    maj=majority(labels)\n",
        "    return maj\n",
        "\n",
        "\n",
        "\n",
        "   "
      ]
    },
    {
      "cell_type": "code",
      "execution_count": 42,
      "metadata": {
        "id": "woCtou6zzLc8"
      },
      "outputs": [],
      "source": [
        "maj=majority(['a','b','b','a'])"
      ]
    },
    {
      "cell_type": "code",
      "execution_count": 43,
      "metadata": {
        "colab": {
          "base_uri": "https://localhost:8080/"
        },
        "id": "XHKBc5G5zSM_",
        "outputId": "84149db0-fb7f-4007-9edc-09652369cc88"
      },
      "outputs": [
        {
          "name": "stdout",
          "output_type": "stream",
          "text": [
            "b\n"
          ]
        }
      ],
      "source": [
        "print(maj)"
      ]
    },
    {
      "cell_type": "code",
      "execution_count": 44,
      "metadata": {
        "deletable": false,
        "editable": false,
        "id": "ubQgmaDYtZkD",
        "nbgrader": {
          "cell_type": "code",
          "checksum": "62f5a34a158ce7f7fc5fa51de643cbfc",
          "grade": true,
          "grade_id": "cell-0ce3da6f315b9536",
          "locked": true,
          "points": 5,
          "schema_version": 3,
          "solution": false,
          "task": false
        }
      },
      "outputs": [],
      "source": [
        "\"\"\"Here's one of the tests I'll run on your code:\"\"\"\n",
        "assert majority(['a', 'a', 'b','c','a','b']) == 'a'"
      ]
    },
    {
      "cell_type": "markdown",
      "metadata": {
        "deletable": false,
        "editable": false,
        "id": "YKxoKUZMtZkD",
        "nbgrader": {
          "cell_type": "markdown",
          "checksum": "5a0f8b979970abba7bd2caf26f29a031",
          "grade": false,
          "grade_id": "cell-f77f687bc0c5f2fe",
          "locked": true,
          "schema_version": 3,
          "solution": false,
          "task": false
        }
      },
      "source": [
        "**Problem**\n",
        "\n",
        "Write a class that represents a labeled data point. It should have two attributes: \n",
        "\n",
        "* a point (represented as a list)\n",
        "* a label (represented as a string)\n",
        "\n",
        "For example, once your class exists, you should be able to do this:\n",
        "\n",
        "`a = LabeledPt(point=[0,0], label='my_point')`\n",
        "\n",
        "And be able to access its attributes like this:\n",
        "\n",
        "`a.point = [0,0]` and `a.label = 'my_point'`\n",
        "\n",
        "**Class name:** `LabeledPt()`\n",
        "\n",
        "**Class attributes:**\n",
        "\n",
        "* `point`: list\n",
        "* `label`: string\n",
        "\n",
        "**Hint:**\n",
        "\n",
        "Remember to use the ``__init__`` method as ```def __init__(self, point, label):```"
      ]
    },
    {
      "cell_type": "code",
      "execution_count": 29,
      "metadata": {
        "deletable": false,
        "id": "wWHwAjd2tZkD",
        "nbgrader": {
          "cell_type": "code",
          "checksum": "2aea2dec4a0c9bc22ab9d3091e332d79",
          "grade": false,
          "grade_id": "cell-fd725bed29e1967c",
          "locked": false,
          "schema_version": 3,
          "solution": true,
          "task": false
        }
      },
      "outputs": [],
      "source": [
        "class LabeledPt():\n",
        "    \n",
        "    def __init__(self, point, label):\n",
        "      self.point=point\n",
        "      self.label=label\n",
        "    def point(self):\n",
        "      pt=self.point\n",
        "      return pt\n",
        "\n",
        "    def label(self):\n",
        "      lb=self.label\n",
        "      return lb\n",
        "\n"
      ]
    },
    {
      "cell_type": "code",
      "execution_count": 30,
      "metadata": {
        "id": "uvxBOaci29fl"
      },
      "outputs": [],
      "source": [
        "a = LabeledPt(point=[0,0], label='my_point')"
      ]
    },
    {
      "cell_type": "code",
      "execution_count": 31,
      "metadata": {
        "colab": {
          "base_uri": "https://localhost:8080/"
        },
        "id": "nuo0OuQ03SzF",
        "outputId": "267fd8f3-a376-446d-e6e6-e7a5ea07660f"
      },
      "outputs": [
        {
          "data": {
            "text/plain": [
              "[0, 0]"
            ]
          },
          "execution_count": 31,
          "metadata": {},
          "output_type": "execute_result"
        }
      ],
      "source": [
        "a.point"
      ]
    },
    {
      "cell_type": "code",
      "execution_count": 32,
      "metadata": {
        "colab": {
          "base_uri": "https://localhost:8080/",
          "height": 36
        },
        "deletable": false,
        "editable": false,
        "id": "-MlkZSsTtZkE",
        "nbgrader": {
          "cell_type": "code",
          "checksum": "abb1966ac6ec9fad9d86fd2b76adfd77",
          "grade": true,
          "grade_id": "cell-5b6f4ca38b654321",
          "locked": true,
          "points": 5,
          "schema_version": 3,
          "solution": false,
          "task": false
        },
        "outputId": "7908e1dc-82ba-4b11-dd7b-2bff18b1683a"
      },
      "outputs": [
        {
          "data": {
            "application/vnd.google.colaboratory.intrinsic+json": {
              "type": "string"
            },
            "text/plain": [
              "'my_point'"
            ]
          },
          "execution_count": 32,
          "metadata": {},
          "output_type": "execute_result"
        }
      ],
      "source": [
        "a.label"
      ]
    },
    {
      "cell_type": "markdown",
      "metadata": {
        "deletable": false,
        "editable": false,
        "id": "3SJsrqiEtZkE",
        "nbgrader": {
          "cell_type": "markdown",
          "checksum": "fd4ecf6fbcf6f2eead879c4cce6cea3e",
          "grade": false,
          "grade_id": "cell-e7102eab52102be9",
          "locked": true,
          "schema_version": 3,
          "solution": false,
          "task": false
        }
      },
      "source": [
        "**Problem**\n",
        "\n",
        "Write a KNN classifier function `knn_classifier()`:\n",
        "\n",
        "Given a list of labeled points (`labeled_points`) and a new point (`new_point`) to classify, the function should return the majority vote of the labels of the `k` nearest neighbors to `new_point`.\n",
        "\n",
        "By \"nearest\" we mean the shortest `vec_distance()` between points\n",
        "\n",
        "For example, if we have two labeled points in the list `labeled_points = [LabeledPt(point=[0,0], label='a'), LabeledPt(point=[1,1], label='b')]`, then calling the `knn_classifier` function to return the label for the new point `new_point=[0.49, 0.49]` based on the `k=1` nearest neighbor should output `a`:\n",
        "\n",
        "```python\n",
        "knn_classifier(1, \n",
        "                 [LabeledPt(point=[0,0], label='a'), \n",
        "                  LabeledPt(point=[1,1], label='b')], \n",
        "                 new_point = (0.49,0.49)\n",
        "              ) == 'a'\n",
        "```\n",
        "\n",
        "**Function name:** `knn_classifier()`\n",
        "\n",
        "**Input arguments:** \n",
        "\n",
        "* `k`: the number of neighbors\n",
        "* `labeled_points`: a list of labeled points\n",
        "* `new_point`: the point you're trying to classify\n",
        "\n",
        "**Output:** \n",
        "\n",
        "* the predicted class label of the new point\n",
        "\n",
        "**Hints:**\n",
        "\n",
        "* Use `majority()`\n",
        "* Use the built-in Python function `sorted()` with a custom `Key` function involving `lambda` and the ``vec_distance()`` method imported at the beginning of the homework assignment"
      ]
    },
    {
      "cell_type": "code",
      "execution_count": 67,
      "metadata": {
        "colab": {
          "base_uri": "https://localhost:8080/"
        },
        "id": "3KIDabvDCj3l",
        "outputId": "a69fd2a8-8529-49b2-b978-85bdb6d5538e"
      },
      "outputs": [
        {
          "name": "stdout",
          "output_type": "stream",
          "text": [
            "[{'label': 'a', 'distance': 0.6929646455628166}]\n",
            "[{'label': 'a', 'distance': 0.6929646455628166}, {'label': 'b', 'distance': 0.7212489168102785}]\n",
            "a\n",
            "a\n"
          ]
        },
        {
          "data": {
            "text/plain": [
              "True"
            ]
          },
          "execution_count": 67,
          "metadata": {},
          "output_type": "execute_result"
        }
      ],
      "source": [
        "knn_classifier(1, \n",
        "                 [LabeledPt(point=[0,0], label='a'), \n",
        "                  LabeledPt(point=[1,1], label='b')], \n",
        "                 new_point = (0.49,0.49)\n",
        "              ) == 'a'"
      ]
    },
    {
      "cell_type": "code",
      "execution_count": 66,
      "metadata": {
        "deletable": false,
        "id": "y2to451stZkE",
        "nbgrader": {
          "cell_type": "code",
          "checksum": "f4e9700a718c635be01d5644a045a00a",
          "grade": false,
          "grade_id": "cell-ab90c43fc1344483",
          "locked": false,
          "schema_version": 3,
          "solution": true,
          "task": false
        }
      },
      "outputs": [],
      "source": [
        "def knn_classifier(k,labeled_points,new_point):\n",
        "  L=[]\n",
        "  D={}\n",
        "  V=[]\n",
        "  for lbpt in labeled_points:\n",
        "    a = lbpt\n",
        "    \n",
        "\n",
        "\n",
        "    dist=vec_distance(a.point, new_point)\n",
        "    # D['label']=a.label\n",
        "    # D['distance']=dist\n",
        "    # print(D)\n",
        "    L.append({'label':a.label,'distance':dist})\n",
        "    print(L)\n",
        "  sor = sorted(L, key=lambda s: s['distance'])\n",
        "  # print(sor)\n",
        "  for i in range(k):\n",
        "    votes=sor[i]['label']\n",
        "    print(votes)\n",
        "    V.append(votes)\n",
        "  pred_label=majority(V)\n",
        "  print(pred_label)\n",
        "  return pred_label\n",
        "\n",
        "\n",
        "\n",
        "   \n"
      ]
    },
    {
      "cell_type": "code",
      "execution_count": null,
      "metadata": {
        "deletable": false,
        "editable": false,
        "id": "i2tV4zeotZkE",
        "nbgrader": {
          "cell_type": "code",
          "checksum": "aa1a64dab7cc09bac4f623a5df659f24",
          "grade": true,
          "grade_id": "cell-8c889fa4c4cc150a",
          "locked": true,
          "points": 10,
          "schema_version": 3,
          "solution": false,
          "task": false
        }
      },
      "outputs": [],
      "source": []
    },
    {
      "cell_type": "markdown",
      "metadata": {
        "deletable": false,
        "editable": false,
        "id": "v48srjiktZkE",
        "nbgrader": {
          "cell_type": "markdown",
          "checksum": "c6e06bd71f1da2a6f487ae1fbba6326f",
          "grade": false,
          "grade_id": "cell-901fac570d346db9",
          "locked": true,
          "schema_version": 3,
          "solution": false,
          "task": false
        }
      },
      "source": [
        "**Run code below to load the iris dataset**\n",
        "\n",
        "This is one of the best known classification problems in machine learning, and is frequently used to \"benchmark\" machine learning algorithms.\n",
        "\n",
        "The goal is to classify the *flower species* (represented as `strings`):\n",
        "\n",
        "* Setosa\n",
        "* Versicolor\n",
        "* Virginica\n",
        "\n",
        "As a function of *four variables* (represented as `floats`):\n",
        "\n",
        "* Sepal length\n",
        "* Sepal width\n",
        "* Petal width\n",
        "* Petal lenth\n",
        "\n",
        "You can read about it here:\n",
        "\n",
        "https://en.wikipedia.org/wiki/Iris_flower_data_set\n"
      ]
    },
    {
      "cell_type": "code",
      "execution_count": 68,
      "metadata": {
        "deletable": false,
        "editable": false,
        "id": "ZTHtXvrTtZkF",
        "nbgrader": {
          "cell_type": "code",
          "checksum": "59eb096d2cb19e48e1d33d5952864027",
          "grade": false,
          "grade_id": "cell-c553708006309dd1",
          "locked": true,
          "schema_version": 3,
          "solution": false,
          "task": false
        }
      },
      "outputs": [],
      "source": [
        "import csv\n",
        "\n",
        "with open('iris.dat') as f:\n",
        "    read_file = csv.reader(f)\n",
        "    loaded_iris_arr = [row for row in read_file]"
      ]
    },
    {
      "cell_type": "markdown",
      "metadata": {
        "deletable": false,
        "editable": false,
        "id": "O8wCgXCZtZkF",
        "nbgrader": {
          "cell_type": "markdown",
          "checksum": "a957be2ef78399dfd9cdad774ca2adc9",
          "grade": false,
          "grade_id": "cell-c448bd5d7928cb31",
          "locked": true,
          "schema_version": 3,
          "solution": false,
          "task": false
        }
      },
      "source": [
        "**Background**\n",
        "\n",
        "We have just loaded the Iris data as a list of lists. One row (i.e. one sample) looks like this:\n",
        "\n",
        "```python\n",
        "\n",
        "loaded_iris_arr[0]\n",
        "\n",
        "['5.1', '3.5', '1.4', '0.2', 'Iris-setosa']\n",
        "```\n",
        "\n",
        "Where `5.1`, `3.5`, `1.4`, `0.2` are strings representing sepal length, sepal width, petal length, and petal width respectively (all in centimeters). `'Iris-setosa'` is a string representing the species.\n",
        "\n",
        "**Problem**\n",
        "\n",
        "Write a function, `gen_LabeledPt()` that converts each row of the *Iris* dataset to a `LabeledPt`. \n",
        "\n",
        "For example, once your function is created you should be able to do this:\n",
        "\n",
        "```python\n",
        "\n",
        "test =  gen_LabeledPt(loaded_iris_arr[0])\n",
        "print(test.point)\n",
        "print(test.label)\n",
        "\n",
        "[5.1, 3.5, 1.4, 0.2]\n",
        "setosa\n",
        "```\n",
        "\n",
        "**Function name:**\n",
        "\n",
        "* `gen_LabeledPt()`\n",
        "\n",
        "**Input arguments:** \n",
        "\n",
        "* a row from `loaded_iris_arr`. For example `loaded_iris_arr[0]`\n",
        "\n",
        "**Output:** \n",
        "\n",
        "* The function should return an instance of class `LabeledPt`\n",
        "\n",
        "**Requirements:**\n",
        "\n",
        "* Remove `'Iris-'` from the species string, e.g. if the class is *Iris-setosa*, the `.label` should be ```setosa```\n",
        "\n",
        "**Hints:**\n",
        "\n",
        "* Use the ``split()`` function to remove `'Iris-'`\n",
        "* `measurement_values` can be created using a list comprehension"
      ]
    },
    {
      "cell_type": "code",
      "execution_count": 72,
      "metadata": {
        "id": "-bylW3z5H3FB"
      },
      "outputs": [],
      "source": [
        "h=loaded_iris_arr[100]"
      ]
    },
    {
      "cell_type": "code",
      "execution_count": 75,
      "metadata": {
        "colab": {
          "base_uri": "https://localhost:8080/",
          "height": 36
        },
        "id": "CtdUXcx8II56",
        "outputId": "cadfb5d5-54bf-4495-8fd8-ab15f8726315"
      },
      "outputs": [
        {
          "data": {
            "application/vnd.google.colaboratory.intrinsic+json": {
              "type": "string"
            },
            "text/plain": [
              "'Iris-virginica'"
            ]
          },
          "execution_count": 75,
          "metadata": {},
          "output_type": "execute_result"
        }
      ],
      "source": [
        "h[4]"
      ]
    },
    {
      "cell_type": "code",
      "execution_count": 77,
      "metadata": {
        "colab": {
          "base_uri": "https://localhost:8080/",
          "height": 36
        },
        "id": "IsOYbkRGIItj",
        "outputId": "0ea64c46-7dbd-4d54-dcfe-82623102e3a7"
      },
      "outputs": [
        {
          "data": {
            "application/vnd.google.colaboratory.intrinsic+json": {
              "type": "string"
            },
            "text/plain": [
              "'virginica'"
            ]
          },
          "execution_count": 77,
          "metadata": {},
          "output_type": "execute_result"
        }
      ],
      "source": [
        "h[4].split('-')[1]"
      ]
    },
    {
      "cell_type": "code",
      "execution_count": 83,
      "metadata": {
        "colab": {
          "base_uri": "https://localhost:8080/"
        },
        "id": "Qn1TPOeMIu9A",
        "outputId": "1d6d4939-9d8b-4500-b77e-411b58d64903"
      },
      "outputs": [
        {
          "name": "stdout",
          "output_type": "stream",
          "text": [
            "['5.1', '3.5', '1.4', '0.2']\n",
            "setosa\n"
          ]
        }
      ],
      "source": [
        "test =  gen_LabeledPt(loaded_iris_arr[0])\n",
        "print(test.point)\n",
        "print(test.label)\n"
      ]
    },
    {
      "cell_type": "code",
      "execution_count": 82,
      "metadata": {
        "deletable": false,
        "id": "OM71Pos7tZkF",
        "nbgrader": {
          "cell_type": "code",
          "checksum": "bd9c46c10155b8a7ba144809e370d0f5",
          "grade": false,
          "grade_id": "cell-9741ecf2cfcf2350",
          "locked": false,
          "schema_version": 3,
          "solution": true,
          "task": false
        }
      },
      "outputs": [],
      "source": [
        "def gen_LabeledPt(row):\n",
        "    measurement_values=row[0:4]\n",
        "    label=row[4]\n",
        "    point_label=label.split('-')[1]\n",
        "    return LabeledPt(measurement_values, point_label)"
      ]
    },
    {
      "cell_type": "code",
      "execution_count": null,
      "metadata": {
        "deletable": false,
        "editable": false,
        "id": "HeXoPxS7tZkF",
        "nbgrader": {
          "cell_type": "code",
          "checksum": "4904d4625557d8dd76b1306c6f0c080e",
          "grade": true,
          "grade_id": "cell-cbed73f84c3f77ad",
          "locked": true,
          "points": 10,
          "schema_version": 3,
          "solution": false,
          "task": false
        }
      },
      "outputs": [],
      "source": []
    },
    {
      "cell_type": "markdown",
      "metadata": {
        "deletable": false,
        "editable": false,
        "id": "ZY2yFAVMtZkF",
        "nbgrader": {
          "cell_type": "markdown",
          "checksum": "a4ca958215c2bad8afd85474774673b0",
          "grade": false,
          "grade_id": "cell-9660721c2cc19592",
          "locked": true,
          "schema_version": 3,
          "solution": false,
          "task": false
        }
      },
      "source": [
        "**Problem**\n",
        "\n",
        "Use list comprehension and your `gen_LabeledPt` function to convert *all* the rows of the `labeled_iris_points` to `LabeledPts`\n",
        "\n",
        "**Output:** \n",
        "\n",
        "* The output should be a list of 150 LabeledPts called ```labeled_iris_points```\n",
        "\n"
      ]
    },
    {
      "cell_type": "code",
      "execution_count": null,
      "metadata": {
        "id": "8g8AerjYJwN9"
      },
      "outputs": [],
      "source": [
        "gen_LabeledPt(loaded_iris_arr[0])"
      ]
    },
    {
      "cell_type": "code",
      "execution_count": 93,
      "metadata": {
        "deletable": false,
        "id": "lrCi1XjdtZkG",
        "nbgrader": {
          "cell_type": "code",
          "checksum": "87cc8341ad5d8d852e9753d3a70b47cb",
          "grade": false,
          "grade_id": "cell-eddaaefad6a56a66",
          "locked": false,
          "schema_version": 3,
          "solution": true,
          "task": false
        }
      },
      "outputs": [],
      "source": [
        "labeled_iris_points=[gen_LabeledPt(i) for i in loaded_iris_arr[0:150] ]"
      ]
    },
    {
      "cell_type": "code",
      "execution_count": 105,
      "metadata": {
        "colab": {
          "base_uri": "https://localhost:8080/",
          "height": 36
        },
        "id": "0sus1TdrKYrs",
        "outputId": "b120eb76-6f5e-4d21-c618-3dfbac1f7eff"
      },
      "outputs": [
        {
          "data": {
            "application/vnd.google.colaboratory.intrinsic+json": {
              "type": "string"
            },
            "text/plain": [
              "'setosa'"
            ]
          },
          "execution_count": 105,
          "metadata": {},
          "output_type": "execute_result"
        }
      ],
      "source": [
        "labeled_iris_points[0].label"
      ]
    },
    {
      "cell_type": "code",
      "execution_count": 92,
      "metadata": {
        "colab": {
          "base_uri": "https://localhost:8080/"
        },
        "id": "fM0Vgk_sKZkQ",
        "outputId": "91d9fdf8-0205-4efd-a615-708b78ba80cf"
      },
      "outputs": [
        {
          "data": {
            "text/plain": [
              "<__main__.LabeledPt at 0x7f6bb73a30d0>"
            ]
          },
          "execution_count": 92,
          "metadata": {},
          "output_type": "execute_result"
        }
      ],
      "source": []
    },
    {
      "cell_type": "code",
      "execution_count": null,
      "metadata": {
        "deletable": false,
        "editable": false,
        "id": "YQFkSejYtZkG",
        "nbgrader": {
          "cell_type": "code",
          "checksum": "a396fc6da8072ad5350430c0d52d372c",
          "grade": true,
          "grade_id": "cell-c890ae7b76509760",
          "locked": true,
          "points": 5,
          "schema_version": 3,
          "solution": false,
          "task": false
        }
      },
      "outputs": [],
      "source": []
    },
    {
      "cell_type": "markdown",
      "metadata": {
        "deletable": false,
        "editable": false,
        "id": "Ts9tkYS8tZkG",
        "nbgrader": {
          "cell_type": "markdown",
          "checksum": "4c61f9fc708f9d646bf93d8d120b1822",
          "grade": false,
          "grade_id": "cell-ca245670fef22cab",
          "locked": true,
          "schema_version": 3,
          "solution": false,
          "task": false
        }
      },
      "source": [
        "**Problem**\n",
        "\n",
        "* Use ```defaultdict``` to organize the points according to species\n",
        "\n",
        "**Output:** \n",
        "\n",
        "* The output should be an object of type ```collections.defaultdict``` called ```species_points``` containing the points organized by species\n",
        "\n",
        "**Hints:**\n",
        "\n",
        "```python\n",
        "from collections import defaultdict\n",
        "```\n",
        "\n",
        "Here's an example of how to use a `defaultdict` from the Python docs:\n",
        "\n",
        "https://docs.python.org/2/library/collections.html#defaultdict-objects\n",
        "\n",
        "```python\n",
        "\n",
        ">>> s = [('yellow', 1), ('blue', 2), ('yellow', 3), ('blue', 4), ('red', 1)]\n",
        ">>> d = defaultdict(list)\n",
        ">>> for k, v in s:\n",
        "...     d[k].append(v)\n",
        "...\n",
        ">>> d.items()\n",
        "[('blue', [2, 4]), ('red', [1]), ('yellow', [1, 3])]\n",
        "\n",
        "```\n",
        "\n",
        "* Use a similar process to organize the data according to species"
      ]
    },
    {
      "cell_type": "code",
      "execution_count": 111,
      "metadata": {
        "colab": {
          "base_uri": "https://localhost:8080/",
          "height": 235
        },
        "id": "xlLaYFSVONbT",
        "outputId": "aa398e95-0766-4159-efe1-788e34a1ff3f"
      },
      "outputs": [
        {
          "ename": "TypeError",
          "evalue": "ignored",
          "output_type": "error",
          "traceback": [
            "\u001b[0;31m---------------------------------------------------------------------------\u001b[0m",
            "\u001b[0;31mTypeError\u001b[0m                                 Traceback (most recent call last)",
            "\u001b[0;32m<ipython-input-111-d46fedc78456>\u001b[0m in \u001b[0;36m<module>\u001b[0;34m\u001b[0m\n\u001b[1;32m      2\u001b[0m \u001b[0;34m\u001b[0m\u001b[0m\n\u001b[1;32m      3\u001b[0m \u001b[0md\u001b[0m \u001b[0;34m=\u001b[0m \u001b[0mdefaultdict\u001b[0m\u001b[0;34m(\u001b[0m\u001b[0mlist\u001b[0m\u001b[0;34m)\u001b[0m\u001b[0;34m\u001b[0m\u001b[0;34m\u001b[0m\u001b[0m\n\u001b[0;32m----> 4\u001b[0;31m \u001b[0;32mfor\u001b[0m \u001b[0mk\u001b[0m\u001b[0;34m.\u001b[0m\u001b[0mlabel\u001b[0m\u001b[0;34m,\u001b[0m \u001b[0mv\u001b[0m\u001b[0;34m.\u001b[0m\u001b[0mpoint\u001b[0m \u001b[0;32min\u001b[0m \u001b[0mlabeled_iris_points\u001b[0m\u001b[0;34m:\u001b[0m\u001b[0;34m\u001b[0m\u001b[0;34m\u001b[0m\u001b[0m\n\u001b[0m\u001b[1;32m      5\u001b[0m   \u001b[0md\u001b[0m\u001b[0;34m[\u001b[0m\u001b[0mk\u001b[0m\u001b[0;34m]\u001b[0m\u001b[0;34m.\u001b[0m\u001b[0mappend\u001b[0m\u001b[0;34m(\u001b[0m\u001b[0mv\u001b[0m\u001b[0;34m)\u001b[0m\u001b[0;34m\u001b[0m\u001b[0;34m\u001b[0m\u001b[0m\n\u001b[1;32m      6\u001b[0m \u001b[0md\u001b[0m\u001b[0;34m.\u001b[0m\u001b[0mitems\u001b[0m\u001b[0;34m(\u001b[0m\u001b[0;34m)\u001b[0m\u001b[0;34m\u001b[0m\u001b[0;34m\u001b[0m\u001b[0m\n",
            "\u001b[0;31mTypeError\u001b[0m: cannot unpack non-iterable LabeledPt object"
          ]
        }
      ],
      "source": [
        "from collections import defaultdict\n",
        "\n",
        "d = defaultdict(list)\n",
        "for k.label, v.point in labeled_iris_points:\n",
        "  d[k].append(v)\n",
        "d.items()"
      ]
    },
    {
      "cell_type": "code",
      "execution_count": null,
      "metadata": {
        "id": "S2DGjqq6ONyc"
      },
      "outputs": [],
      "source": []
    },
    {
      "cell_type": "code",
      "execution_count": null,
      "metadata": {
        "id": "S-U3_WM-OOC1"
      },
      "outputs": [],
      "source": []
    },
    {
      "cell_type": "code",
      "execution_count": null,
      "metadata": {
        "id": "D5icbhWdOORG"
      },
      "outputs": [],
      "source": []
    },
    {
      "cell_type": "code",
      "execution_count": 106,
      "metadata": {
        "colab": {
          "base_uri": "https://localhost:8080/",
          "height": 217
        },
        "deletable": false,
        "id": "dgySxXA_tZkG",
        "nbgrader": {
          "cell_type": "code",
          "checksum": "f7df956a3baa9c2ed18202e7f124a096",
          "grade": false,
          "grade_id": "cell-3d34842e5ba7c4c2",
          "locked": false,
          "schema_version": 3,
          "solution": true,
          "task": false
        },
        "outputId": "2bdd81cc-4e33-4a8e-b3b6-cbf6039be2af"
      },
      "outputs": [
        {
          "ename": "NameError",
          "evalue": "ignored",
          "output_type": "error",
          "traceback": [
            "\u001b[0;31m---------------------------------------------------------------------------\u001b[0m",
            "\u001b[0;31mNameError\u001b[0m                                 Traceback (most recent call last)",
            "\u001b[0;32m<ipython-input-106-93c9516e896d>\u001b[0m in \u001b[0;36m<module>\u001b[0;34m\u001b[0m\n\u001b[1;32m      1\u001b[0m \u001b[0ms\u001b[0m \u001b[0;34m=\u001b[0m \u001b[0;34m[\u001b[0m\u001b[0;34m(\u001b[0m\u001b[0;34m'yellow'\u001b[0m\u001b[0;34m,\u001b[0m \u001b[0;36m1\u001b[0m\u001b[0;34m)\u001b[0m\u001b[0;34m,\u001b[0m \u001b[0;34m(\u001b[0m\u001b[0;34m'blue'\u001b[0m\u001b[0;34m,\u001b[0m \u001b[0;36m2\u001b[0m\u001b[0;34m)\u001b[0m\u001b[0;34m,\u001b[0m \u001b[0;34m(\u001b[0m\u001b[0;34m'yellow'\u001b[0m\u001b[0;34m,\u001b[0m \u001b[0;36m3\u001b[0m\u001b[0;34m)\u001b[0m\u001b[0;34m,\u001b[0m \u001b[0;34m(\u001b[0m\u001b[0;34m'blue'\u001b[0m\u001b[0;34m,\u001b[0m \u001b[0;36m4\u001b[0m\u001b[0;34m)\u001b[0m\u001b[0;34m,\u001b[0m \u001b[0;34m(\u001b[0m\u001b[0;34m'red'\u001b[0m\u001b[0;34m,\u001b[0m \u001b[0;36m1\u001b[0m\u001b[0;34m)\u001b[0m\u001b[0;34m]\u001b[0m\u001b[0;34m\u001b[0m\u001b[0;34m\u001b[0m\u001b[0m\n\u001b[0;32m----> 2\u001b[0;31m \u001b[0md\u001b[0m \u001b[0;34m=\u001b[0m \u001b[0mdefaultdict\u001b[0m\u001b[0;34m(\u001b[0m\u001b[0mlist\u001b[0m\u001b[0;34m)\u001b[0m\u001b[0;34m\u001b[0m\u001b[0;34m\u001b[0m\u001b[0m\n\u001b[0m\u001b[1;32m      3\u001b[0m \u001b[0;32mfor\u001b[0m \u001b[0mk\u001b[0m\u001b[0;34m,\u001b[0m \u001b[0mv\u001b[0m \u001b[0;32min\u001b[0m \u001b[0ms\u001b[0m\u001b[0;34m:\u001b[0m\u001b[0;34m\u001b[0m\u001b[0;34m\u001b[0m\u001b[0m\n\u001b[1;32m      4\u001b[0m     \u001b[0md\u001b[0m\u001b[0;34m[\u001b[0m\u001b[0mk\u001b[0m\u001b[0;34m]\u001b[0m\u001b[0;34m.\u001b[0m\u001b[0mappend\u001b[0m\u001b[0;34m(\u001b[0m\u001b[0mv\u001b[0m\u001b[0;34m)\u001b[0m\u001b[0;34m\u001b[0m\u001b[0;34m\u001b[0m\u001b[0m\n",
            "\u001b[0;31mNameError\u001b[0m: name 'defaultdict' is not defined"
          ]
        }
      ],
      "source": [
        "s = [('yellow', 1), ('blue', 2), ('yellow', 3), ('blue', 4), ('red', 1)]\n",
        ">>> d = defaultdict(list)\n",
        ">>> for k, v in s:\n",
        "...     d[k].append(v)"
      ]
    },
    {
      "cell_type": "code",
      "execution_count": null,
      "metadata": {
        "deletable": false,
        "editable": false,
        "id": "MyTVaMfstZkG",
        "nbgrader": {
          "cell_type": "code",
          "checksum": "84cc3b43bcaeae76c81dbb05228ca030",
          "grade": true,
          "grade_id": "cell-d69579fedc7abf15",
          "locked": true,
          "points": 5,
          "schema_version": 3,
          "solution": false,
          "task": false
        }
      },
      "outputs": [],
      "source": []
    },
    {
      "cell_type": "markdown",
      "metadata": {
        "id": "P73YkPS6tZkG"
      },
      "source": [
        "Run this code to split the data into \"Training\" data and \"Testing\" data"
      ]
    },
    {
      "cell_type": "code",
      "execution_count": null,
      "metadata": {
        "deletable": false,
        "editable": false,
        "id": "O5U1rafXtZkH",
        "nbgrader": {
          "cell_type": "code",
          "checksum": "149c28d6451ccaf05dbcf86ab76a00c2",
          "grade": false,
          "grade_id": "cell-e4e570f0c5fa2009",
          "locked": true,
          "schema_version": 3,
          "solution": false,
          "task": false
        }
      },
      "outputs": [],
      "source": [
        "import random\n",
        "\n",
        "def data_splitter(data, prob):\n",
        "    data = data[:]                    \n",
        "    random.shuffle(data)              \n",
        "    cut = int(len(data) * prob)       \n",
        "    return data[:cut], data[cut:]     \n",
        "\n",
        "random.seed(12)\n",
        "iris_X_train, iris_X_test = data_splitter(labeled_iris_points, 0.70)"
      ]
    },
    {
      "cell_type": "markdown",
      "metadata": {
        "deletable": false,
        "editable": false,
        "id": "gPJE3TWltZkH",
        "nbgrader": {
          "cell_type": "markdown",
          "checksum": "460e22715d219a5d7c4cea2f9e4003c7",
          "grade": false,
          "grade_id": "cell-3866e1c8b2c66f7b",
          "locked": true,
          "schema_version": 3,
          "solution": false,
          "task": false
        }
      },
      "source": [
        "**Problem:**\n",
        "\n",
        "After creating our KNN classifier, we are interested in seeing how accurately it can classify points according to the measurement values.\n",
        "\n",
        "Run the KNN classifier with **5 neighbors** on the training dataset, `iris_X_train` and compute the percentage of correct predictions using the testing dataset `iris_X_test`. \n",
        "\n",
        "This means that we are labeling the new points in the test data according to the majority vote of the labels of the 5 nearest neighbors in the train data. \n",
        "\n",
        "**Output:**\n",
        "\n",
        "The output should be a float ``pct_correct`` that represents the percentage of samples in the testing dataset that are classified correctly. For example, if there are 10 testing samples, and the classifier labels 9 of the tests correctly, then `pct_correct=90.0`\n",
        "\n",
        "**Hints:**\n",
        "\n",
        "* `pct_correct = num_correct / len(iris_X_test) * 100`\n",
        "* Use a for loop to iterate through the test samples in `iris_X_test`\n",
        "* You can keep track of the number of correct predictions using a variable"
      ]
    },
    {
      "cell_type": "code",
      "execution_count": null,
      "metadata": {
        "deletable": false,
        "id": "Y38Y4DvjtZkH",
        "nbgrader": {
          "cell_type": "code",
          "checksum": "4fb69d6665754b7cf1502d024267bf5d",
          "grade": false,
          "grade_id": "cell-552c5824f73e49be",
          "locked": false,
          "schema_version": 3,
          "solution": true,
          "task": false
        }
      },
      "outputs": [],
      "source": [
        "# YOUR CODE HERE\n",
        "raise NotImplementedError()"
      ]
    },
    {
      "cell_type": "code",
      "execution_count": null,
      "metadata": {
        "deletable": false,
        "editable": false,
        "id": "CINbyaGatZkH",
        "nbgrader": {
          "cell_type": "code",
          "checksum": "d89431e50de8356905b09f55442b161a",
          "grade": true,
          "grade_id": "cell-abada96259c3fba4",
          "locked": true,
          "points": 10,
          "schema_version": 3,
          "solution": false,
          "task": false
        }
      },
      "outputs": [],
      "source": []
    }
  ],
  "metadata": {
    "colab": {
      "provenance": []
    },
    "kernelspec": {
      "display_name": "Python 3",
      "language": "python",
      "name": "python3"
    },
    "language_info": {
      "codemirror_mode": {
        "name": "ipython",
        "version": 3
      },
      "file_extension": ".py",
      "mimetype": "text/x-python",
      "name": "python",
      "nbconvert_exporter": "python",
      "pygments_lexer": "ipython3",
      "version": "3.7.4"
    }
  },
  "nbformat": 4,
  "nbformat_minor": 0
}
