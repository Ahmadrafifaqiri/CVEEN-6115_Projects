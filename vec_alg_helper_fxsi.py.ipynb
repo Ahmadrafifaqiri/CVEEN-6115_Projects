{
  "nbformat": 4,
  "nbformat_minor": 0,
  "metadata": {
    "colab": {
      "provenance": []
    },
    "kernelspec": {
      "name": "python3",
      "display_name": "Python 3"
    },
    "language_info": {
      "name": "python"
    }
  },
  "cells": [
    {
      "cell_type": "code",
      "source": [
        "def sub_vecs(x, y):\n",
        "    assert len(x) == len(y), 'Error, vectors must be the same length'\n",
        "    return [a - b for a, b in zip(x, y)]\n",
        "\n",
        "x = [2, 0, 1]\n",
        "y = [1, 1, 5]\n",
        "print(sub_vecs(x, y))"
      ],
      "metadata": {
        "id": "mpqjjQmo9xJT",
        "colab": {
          "base_uri": "https://localhost:8080/"
        },
        "outputId": "9303e31d-b40f-46dc-a921-d3a7be8a20f5"
      },
      "execution_count": null,
      "outputs": [
        {
          "output_type": "stream",
          "name": "stdout",
          "text": [
            "[1, -1, -4]\n"
          ]
        }
      ]
    },
    {
      "cell_type": "code",
      "source": [
        "def vec_sum(v):\n",
        "    assert all(len(vec) == len(v[0]) for vec in v), 'Error, vectors must be the same length'\n",
        "    return [sum(vec[i] for vec in v) for i in range(len(v[0]))]\n",
        "\n",
        "x = [2, 0, 1]\n",
        "y = [1, 1, 5]\n",
        "z = [3, -1, 2]\n",
        "print(vec_sum([x, y, z]))"
      ],
      "metadata": {
        "colab": {
          "base_uri": "https://localhost:8080/"
        },
        "id": "72Ya2ShY_f7P",
        "outputId": "7c6bd779-77e2-425f-f839-44e43fafdfc9"
      },
      "execution_count": null,
      "outputs": [
        {
          "output_type": "stream",
          "name": "stdout",
          "text": [
            "[6, 0, 8]\n"
          ]
        }
      ]
    },
    {
      "cell_type": "code",
      "source": [
        "def scalar_mult(v, c):\n",
        "    return [c * element for element in v]\n",
        "\n",
        "x = [2, 0, 1]\n",
        "c = 1.5\n",
        "print(scalar_mult(x, c))\n"
      ],
      "metadata": {
        "colab": {
          "base_uri": "https://localhost:8080/"
        },
        "id": "tKqvQcwYBw28",
        "outputId": "433ea2fc-d598-4121-ec80-a0c164d29fce"
      },
      "execution_count": null,
      "outputs": [
        {
          "output_type": "stream",
          "name": "stdout",
          "text": [
            "[3.0, 0.0, 1.5]\n"
          ]
        }
      ]
    },
    {
      "cell_type": "code",
      "source": [
        "def vec_mean(v):\n",
        "    n = len(v)\n",
        "    return scalar_mult(vec_sum(v), 1/n)\n",
        "\n",
        "x = [2, 0, 1]\n",
        "y = [1, 1, 3]\n",
        "z = [3, -1, 1]\n",
        "print(vec_mean([x, y, z]))"
      ],
      "metadata": {
        "colab": {
          "base_uri": "https://localhost:8080/"
        },
        "id": "UY9iNp4rDYO8",
        "outputId": "d0e83081-7f84-4650-84f1-c48676b093e6"
      },
      "execution_count": null,
      "outputs": [
        {
          "output_type": "stream",
          "name": "stdout",
          "text": [
            "[2.0, 0.0, 1.6666666666666665]\n"
          ]
        }
      ]
    },
    {
      "cell_type": "code",
      "source": [
        "def vec_do(x,y):\n",
        "    assert len(x) == len(y), 'Error, vectors must be the same length'\n",
        "    return sum(a * b for a, b in zip(x, y))\n",
        "x = [2, 0, 1]\n",
        "y = [1, 1, 5]\n",
        "print(vec_do(x, y))"
      ],
      "metadata": {
        "colab": {
          "base_uri": "https://localhost:8080/"
        },
        "id": "InwMnyZaErx8",
        "outputId": "b3f685c3-4f97-4ef3-b15b-729097470294"
      },
      "execution_count": null,
      "outputs": [
        {
          "output_type": "stream",
          "name": "stdout",
          "text": [
            "7\n"
          ]
        }
      ]
    },
    {
      "cell_type": "code",
      "source": [
        "def vec_dot(x, y):\n",
        "    assert len(x) == len(y), 'Error, vectors must be the same length'\n",
        "    return sum(a * b for a, b in zip(x, y))\n",
        "def vec_sum_squares(x):\n",
        "    return vec_dot(x, x)\n",
        "x = [2, 0, 1]\n",
        "print(vec_sum_squares(x))\n"
      ],
      "metadata": {
        "colab": {
          "base_uri": "https://localhost:8080/"
        },
        "id": "YUBFSreUG0P9",
        "outputId": "24c26267-7eeb-484d-8fab-cf61b9660728"
      },
      "execution_count": null,
      "outputs": [
        {
          "output_type": "stream",
          "name": "stdout",
          "text": [
            "5\n"
          ]
        }
      ]
    },
    {
      "cell_type": "code",
      "source": [
        "import math\n",
        "\n",
        "def vec_magnitude(x):\n",
        "    return math.sqrt(vec_sum_squares(x))\n",
        "\n",
        "x = [2, 0, 1]\n",
        "print(vec_magnitude(x))"
      ],
      "metadata": {
        "colab": {
          "base_uri": "https://localhost:8080/"
        },
        "id": "JYbJ5QkXJWkj",
        "outputId": "f1ec5628-1abe-4a20-82f4-1c6ba9bcd2cd"
      },
      "execution_count": null,
      "outputs": [
        {
          "output_type": "stream",
          "name": "stdout",
          "text": [
            "2.23606797749979\n"
          ]
        }
      ]
    },
    {
      "cell_type": "code",
      "source": [
        "def vec_distance(x, y):\n",
        "    return vec_magnitude(sub_vecs(x, y))\n",
        "\n",
        "x = [2, 0, 1]\n",
        "y = [1, 1, 5]\n",
        "print(vec_distance(x, y))\n"
      ],
      "metadata": {
        "colab": {
          "base_uri": "https://localhost:8080/"
        },
        "id": "EdDPj9aYLBEU",
        "outputId": "326ea13a-3ec1-43ea-99b3-909f7c031ebd"
      },
      "execution_count": null,
      "outputs": [
        {
          "output_type": "stream",
          "name": "stdout",
          "text": [
            "4.242640687119285\n"
          ]
        }
      ]
    },
    {
      "cell_type": "code",
      "source": [],
      "metadata": {
        "id": "7WJs3DoWQum2"
      },
      "execution_count": null,
      "outputs": []
    }
  ]
}